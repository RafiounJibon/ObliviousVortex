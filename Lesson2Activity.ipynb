{
  "nbformat": 4,
  "nbformat_minor": 0,
  "metadata": {
    "colab": {
      "provenance": [],
      "include_colab_link": true
    },
    "kernelspec": {
      "name": "python3",
      "display_name": "Python 3"
    }
  },
  "cells": [
    {
      "cell_type": "markdown",
      "metadata": {
        "id": "view-in-github",
        "colab_type": "text"
      },
      "source": [
        "<a href=\"https://colab.research.google.com/github/RafiounJibon/ObliviousVortex/blob/master/Lesson2Activity.ipynb\" target=\"_parent\"><img src=\"https://colab.research.google.com/assets/colab-badge.svg\" alt=\"Open In Colab\"/></a>"
      ]
    },
    {
      "cell_type": "markdown",
      "metadata": {
        "id": "Id0xZ_1Eq9Yh"
      },
      "source": [
        "# **Python Primer**\n",
        "\n",
        "In each of the sections below you will practice a fundamental programming concept using Python.  Links are provided to w3Schools.com in order to review each of the fundamental programming concepts."
      ]
    },
    {
      "cell_type": "markdown",
      "metadata": {
        "id": "ACRYxQMJsLcW"
      },
      "source": [
        "# **Display**\n",
        "[Resource](https://https://www.w3schools.com/python/ref_func_print.asp)"
      ]
    },
    {
      "cell_type": "code",
      "metadata": {
        "id": "0Kclb-P9q2L6"
      },
      "source": [
        "'''\n",
        "Challenge 1\n",
        "Display your first name and last name on two separate lines using only one statement \n",
        "\n",
        "'''"
      ],
      "execution_count": null,
      "outputs": []
    },
    {
      "cell_type": "markdown",
      "metadata": {
        "id": "oGZwlYFHtnVl"
      },
      "source": [
        "# **Variables**\n",
        "[Resource: Variable](https://www.w3schools.com/python/python_variables.asp)<br>\n",
        "[Resource: Data Types](https://https://www.w3schools.com/python/python_datatypes.asp)"
      ]
    },
    {
      "cell_type": "code",
      "metadata": {
        "id": "AuM0OPNKuIeV"
      },
      "source": [
        "'''\n",
        "Challenge 2\n",
        "1) Create an example of an integer, float, string, and list variable.  \n",
        "2) Print each of you variables using string interpolation.  \n",
        "Output should display the name of the variable followed by the value.  Example: x is 10 \n",
        "'''"
      ],
      "execution_count": null,
      "outputs": []
    },
    {
      "cell_type": "markdown",
      "metadata": {
        "id": "odXaasm7venX"
      },
      "source": [
        "# **Mathematical Operations**\n",
        "[Resource](https://https://www.w3schools.com/python/python_operators.asp)"
      ]
    },
    {
      "cell_type": "code",
      "metadata": {
        "id": "BUTichbNvuRU"
      },
      "source": [
        "'''\n",
        "Challenge 3\n",
        "Create four variables x1,y1,x2,y2 which represent two points.  Assign each variable a value.  \n",
        "Calculate and display the distance between the two points.   \n",
        "'''"
      ],
      "execution_count": null,
      "outputs": []
    },
    {
      "cell_type": "markdown",
      "metadata": {
        "id": "xvGyVai6yHvB"
      },
      "source": [
        "# **Decisions**\n",
        "[Resource: Decision](https://www.w3schools.com/python/python_conditions.asp)"
      ]
    },
    {
      "cell_type": "code",
      "metadata": {
        "id": "U6jqnD0lysVr"
      },
      "source": [
        "'''\n",
        "Challenge 4\n",
        "If the target is between 40 and 60 inclusive or a multiple of 15, display \"Target Hit\" otherwise \n",
        "display \"Miss\".\n",
        "'''\n",
        "from random import randint\n",
        "target = randint(1,100)"
      ],
      "execution_count": null,
      "outputs": []
    },
    {
      "cell_type": "markdown",
      "metadata": {
        "id": "mdxCpLdF0Ehg"
      },
      "source": [
        "# **Loops**\n",
        "[Resource: For](https://www.w3schools.com/python/python_for_loops.asp)<br>\n",
        "[Resource: While](https://www.w3schools.com/python/python_while_loops.asp)"
      ]
    },
    {
      "cell_type": "code",
      "metadata": {
        "id": "1VdySR810zCX"
      },
      "source": [
        "'''\n",
        "Challenge 5\n",
        "1) Display all the even numbers from 1 to 100.  \n",
        "Numbers must be displayed as follows: 2, 4, 6, 8 ... NOT on separate lines. There are couple of ways of handling this.\n",
        "\n",
        "2) Create a loop that \"rolls\" a dice until a 5 is rolled.  Display the number of rolls it took to roll a 5. Hint: Random number for roll.\n",
        "'''\n",
        "for i in range(51):\n",
        "  print(i*2)\n",
        "dice = randint(1,6)\n",
        "print(dice)"
      ],
      "execution_count": null,
      "outputs": []
    },
    {
      "cell_type": "markdown",
      "metadata": {
        "id": "m6crt1Et3cqO"
      },
      "source": [
        "# **List**\n",
        "[Resource](https://www.w3schools.com/python/python_lists.asp)"
      ]
    },
    {
      "cell_type": "code",
      "metadata": {
        "id": "EnQ9ZVTF3ovk"
      },
      "source": [
        "'''\n",
        "Challenge 6\n",
        "1) Create a list of 10 numbers and store it in a variable data.\n",
        "2) Using a loop, calculate the sum of the values in data.\n",
        "'''\n",
        "num = [1,2,3,4,5,6,9,10,11,12]\n",
        "sum = 0\n",
        "for index in range(len(num)):\n",
        "  sum += num\n",
        "  return(num(index))"
      ],
      "execution_count": null,
      "outputs": []
    },
    {
      "cell_type": "markdown",
      "metadata": {
        "id": "sX_TID4c5oop"
      },
      "source": [
        "# **Function**\n",
        "[Resource](https://www.w3schools.com/python/python_functions.asp)"
      ]
    },
    {
      "cell_type": "code",
      "metadata": {
        "id": "QCZdBQIg5_CJ"
      },
      "source": [
        "'''\n",
        "Challenge 7\n",
        "1) Create a function gradeLevel which is suppose to accept an integer from 9 to 12 and return \"Freshmen\" to \"Senior\" respectively.\n",
        "If the grade level passed is not in the range of 9 to 12 return \"Invalid Grade\"\n",
        "2) Make appropriate calls to gradeLevel to test each of the outputs as well as an invalid grade.\n",
        "'''"
      ],
      "execution_count": null,
      "outputs": []
    },
    {
      "cell_type": "code",
      "source": [
        "def gradeLevel(num):\n",
        "  for index in range(len(num)):\n",
        "    num==9\n",
        "    \n",
        "if gradeLevel<9 and gradeLevel>12:\n",
        "  print(\"Invalid Grade\")"
      ],
      "metadata": {
        "id": "tPXWPr-9m8my"
      },
      "execution_count": null,
      "outputs": []
    },
    {
      "cell_type": "markdown",
      "metadata": {
        "id": "s3rU0J_59TD1"
      },
      "source": [
        "# **Classes I**\n",
        "[Resource](https://www.w3schools.com/python/python_classes.asp)"
      ]
    },
    {
      "cell_type": "code",
      "metadata": {
        "id": "uCBUZ5dw9eg8"
      },
      "source": [
        "class Animal:\n",
        "  def __init__(self,species,sound):\n",
        "    self.species = species\n",
        "    self.sound = sound\n",
        "  def speak(self):\n",
        "    return self.sound\n",
        "\n",
        "'''\n",
        "Challenge 8\n",
        "1) Declare a variable that is an Animal.  You can make it of any type along with its corresponding sound.\n",
        "2) Make the Animal speak.\n",
        "3) Display the species of the Animal.\n",
        "'''\n",
        "Animal.species = \"dog\"\n",
        "Animal.sound = \"bark\"\n",
        "return Animal.species"
      ],
      "execution_count": null,
      "outputs": []
    },
    {
      "cell_type": "markdown",
      "metadata": {
        "id": "Xcr9p_klAstY"
      },
      "source": [
        "# **Classes II**\n",
        "[Resource](https://www.w3schools.com/python/python_classes.asp)"
      ]
    },
    {
      "cell_type": "code",
      "metadata": {
        "id": "WAWZJc7cAvyS"
      },
      "source": [
        "'''\n",
        "Challenge 9\n",
        "1) Make all the animals in pet store speak\n",
        "2) Count how many dogs are in the petstore\n",
        "'''\n",
        "pet_store = [Animal(\"dog\",\"bark\"),Animal(\"cat\",\"meow\"),Animal(\"bird\",\"chirp\"),Animal(\"dog\",\"woof\"),Animal(\"bird\",\"tweet\")]\n",
        "for index in range(len(pet_store)):\n",
        "  return Animal.sound\n",
        "  "
      ],
      "execution_count": null,
      "outputs": []
    },
    {
      "cell_type": "markdown",
      "metadata": {
        "id": "zRaVQcXnB_1V"
      },
      "source": [
        "# **Challenge Yourself**\n"
      ]
    },
    {
      "cell_type": "code",
      "metadata": {
        "id": "Bysbv22fdnyU"
      },
      "source": [
        "'''\n",
        "Challenge\n",
        "1) Solve the second challenge in Challenge 10 using only one line of code.  Hint: Use list comprehension\n",
        "2) Solve for Pi using Ramanujan’s Formula.\n",
        "'''\n"
      ],
      "execution_count": null,
      "outputs": []
    }
  ]
}